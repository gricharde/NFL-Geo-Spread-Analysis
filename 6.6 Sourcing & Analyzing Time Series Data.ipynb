{
 "cells": [
  {
   "cell_type": "markdown",
   "id": "bdd31229-daaa-4a8b-872f-e763dd18df42",
   "metadata": {},
   "source": [
    "# 6.6: Sourcing & Analyzing Time Series Data"
   ]
  },
  {
   "cell_type": "code",
   "execution_count": null,
   "id": "cb8aa000-0e1b-4fc0-ab01-fd48d3a1773a",
   "metadata": {},
   "outputs": [],
   "source": []
  },
  {
   "cell_type": "markdown",
   "id": "7247db11-9ac1-45ca-82db-7781608a7005",
   "metadata": {},
   "source": [
    "### Import Libraries and Data"
   ]
  },
  {
   "cell_type": "code",
   "execution_count": 46,
   "id": "fbe043f2-c194-4b0a-bc95-717e71832c44",
   "metadata": {},
   "outputs": [],
   "source": [
    "# Import libraries\n",
    "import pandas as pd\n",
    "import numpy as np\n",
    "import seaborn as sns\n",
    "import matplotlib\n",
    "import matplotlib.pyplot as plt\n",
    "import statsmodels.api as sm\n",
    "import os\n",
    "from datetime import datetime\n",
    "import warnings\n",
    "from statsmodels.tsa.seasonal import seasonal_decompose\n",
    "\n",
    "warnings.filterwarnings(\"ignore\") \n",
    "\n",
    "plt.style.use('fivethirtyeight')"
   ]
  },
  {
   "cell_type": "code",
   "execution_count": 4,
   "id": "03de5ea2-97ef-457e-ba10-7bcef6cab8b0",
   "metadata": {},
   "outputs": [],
   "source": [
    "path = r'C:\\Users\\gre60\\OneDrive\\CareerFoundry Data Analytics Program\\Data Immersion\\Achievement 6\\NFL Final Project 2'"
   ]
  },
  {
   "cell_type": "code",
   "execution_count": 5,
   "id": "d470c39a-6da2-43aa-a80b-563e2979da57",
   "metadata": {},
   "outputs": [],
   "source": [
    "# Import data\n",
    "df = pd.read_csv(os.path.join(path, 'nfl_geo_spread_analysis.csv'))"
   ]
  },
  {
   "cell_type": "code",
   "execution_count": 6,
   "id": "05ea6b55-9fed-4bef-9577-3deef94248da",
   "metadata": {},
   "outputs": [
    {
     "data": {
      "text/html": [
       "<div>\n",
       "<style scoped>\n",
       "    .dataframe tbody tr th:only-of-type {\n",
       "        vertical-align: middle;\n",
       "    }\n",
       "\n",
       "    .dataframe tbody tr th {\n",
       "        vertical-align: top;\n",
       "    }\n",
       "\n",
       "    .dataframe thead th {\n",
       "        text-align: right;\n",
       "    }\n",
       "</style>\n",
       "<table border=\"1\" class=\"dataframe\">\n",
       "  <thead>\n",
       "    <tr style=\"text-align: right;\">\n",
       "      <th></th>\n",
       "      <th>Unnamed: 0</th>\n",
       "      <th>game_id</th>\n",
       "      <th>season</th>\n",
       "      <th>game_type</th>\n",
       "      <th>week</th>\n",
       "      <th>gameday</th>\n",
       "      <th>weekday</th>\n",
       "      <th>gametime</th>\n",
       "      <th>away_team</th>\n",
       "      <th>away_score</th>\n",
       "      <th>...</th>\n",
       "      <th>stadium_id</th>\n",
       "      <th>Stadium</th>\n",
       "      <th>home_market</th>\n",
       "      <th>home_name</th>\n",
       "      <th>away_market</th>\n",
       "      <th>away_name</th>\n",
       "      <th>home_division</th>\n",
       "      <th>away_division</th>\n",
       "      <th>home_full_name</th>\n",
       "      <th>away_full_name</th>\n",
       "    </tr>\n",
       "  </thead>\n",
       "  <tbody>\n",
       "    <tr>\n",
       "      <th>0</th>\n",
       "      <td>0</td>\n",
       "      <td>1999_01_MIN_ATL</td>\n",
       "      <td>1999</td>\n",
       "      <td>REG</td>\n",
       "      <td>1</td>\n",
       "      <td>9/12/1999</td>\n",
       "      <td>Sunday</td>\n",
       "      <td>NaN</td>\n",
       "      <td>MIN</td>\n",
       "      <td>17.0</td>\n",
       "      <td>...</td>\n",
       "      <td>ATL00</td>\n",
       "      <td>Georgia Dome</td>\n",
       "      <td>Atlanta</td>\n",
       "      <td>Falcons</td>\n",
       "      <td>Minnesota</td>\n",
       "      <td>Vikings</td>\n",
       "      <td>NFC South</td>\n",
       "      <td>NFC North</td>\n",
       "      <td>Atlanta Falcons</td>\n",
       "      <td>Minnesota Vikings</td>\n",
       "    </tr>\n",
       "    <tr>\n",
       "      <th>1</th>\n",
       "      <td>1</td>\n",
       "      <td>1999_01_KC_CHI</td>\n",
       "      <td>1999</td>\n",
       "      <td>REG</td>\n",
       "      <td>1</td>\n",
       "      <td>9/12/1999</td>\n",
       "      <td>Sunday</td>\n",
       "      <td>NaN</td>\n",
       "      <td>KC</td>\n",
       "      <td>17.0</td>\n",
       "      <td>...</td>\n",
       "      <td>CHI98</td>\n",
       "      <td>Soldier Field</td>\n",
       "      <td>Chicago</td>\n",
       "      <td>Bears</td>\n",
       "      <td>Kansas City</td>\n",
       "      <td>Chiefs</td>\n",
       "      <td>NFC North</td>\n",
       "      <td>AFC West</td>\n",
       "      <td>Chicago Bears</td>\n",
       "      <td>Kansas City Chiefs</td>\n",
       "    </tr>\n",
       "    <tr>\n",
       "      <th>2</th>\n",
       "      <td>2</td>\n",
       "      <td>1999_01_PIT_CLE</td>\n",
       "      <td>1999</td>\n",
       "      <td>REG</td>\n",
       "      <td>1</td>\n",
       "      <td>9/12/1999</td>\n",
       "      <td>Sunday</td>\n",
       "      <td>NaN</td>\n",
       "      <td>PIT</td>\n",
       "      <td>43.0</td>\n",
       "      <td>...</td>\n",
       "      <td>CLE00</td>\n",
       "      <td>Cleveland Browns Stadium</td>\n",
       "      <td>Cleveland</td>\n",
       "      <td>Browns</td>\n",
       "      <td>Pittsburgh</td>\n",
       "      <td>Steelers</td>\n",
       "      <td>AFC North</td>\n",
       "      <td>AFC North</td>\n",
       "      <td>Cleveland Browns</td>\n",
       "      <td>Pittsburgh Steelers</td>\n",
       "    </tr>\n",
       "    <tr>\n",
       "      <th>3</th>\n",
       "      <td>3</td>\n",
       "      <td>1999_01_OAK_GB</td>\n",
       "      <td>1999</td>\n",
       "      <td>REG</td>\n",
       "      <td>1</td>\n",
       "      <td>9/12/1999</td>\n",
       "      <td>Sunday</td>\n",
       "      <td>NaN</td>\n",
       "      <td>OAK</td>\n",
       "      <td>24.0</td>\n",
       "      <td>...</td>\n",
       "      <td>GNB00</td>\n",
       "      <td>Lambeau Field</td>\n",
       "      <td>Green Bay</td>\n",
       "      <td>Packers</td>\n",
       "      <td>Oakland</td>\n",
       "      <td>Raiders</td>\n",
       "      <td>NFC North</td>\n",
       "      <td>AFC West</td>\n",
       "      <td>Green Bay Packers</td>\n",
       "      <td>Oakland Raiders</td>\n",
       "    </tr>\n",
       "    <tr>\n",
       "      <th>4</th>\n",
       "      <td>4</td>\n",
       "      <td>1999_01_BUF_IND</td>\n",
       "      <td>1999</td>\n",
       "      <td>REG</td>\n",
       "      <td>1</td>\n",
       "      <td>9/12/1999</td>\n",
       "      <td>Sunday</td>\n",
       "      <td>NaN</td>\n",
       "      <td>BUF</td>\n",
       "      <td>14.0</td>\n",
       "      <td>...</td>\n",
       "      <td>IND99</td>\n",
       "      <td>RCA Dome</td>\n",
       "      <td>Indianapolis</td>\n",
       "      <td>Colts</td>\n",
       "      <td>Buffalo</td>\n",
       "      <td>Bills</td>\n",
       "      <td>AFC South</td>\n",
       "      <td>AFC East</td>\n",
       "      <td>Indianapolis Colts</td>\n",
       "      <td>Buffalo Bills</td>\n",
       "    </tr>\n",
       "  </tbody>\n",
       "</table>\n",
       "<p>5 rows × 35 columns</p>\n",
       "</div>"
      ],
      "text/plain": [
       "   Unnamed: 0          game_id  season game_type  week    gameday weekday  \\\n",
       "0           0  1999_01_MIN_ATL    1999       REG     1  9/12/1999  Sunday   \n",
       "1           1   1999_01_KC_CHI    1999       REG     1  9/12/1999  Sunday   \n",
       "2           2  1999_01_PIT_CLE    1999       REG     1  9/12/1999  Sunday   \n",
       "3           3   1999_01_OAK_GB    1999       REG     1  9/12/1999  Sunday   \n",
       "4           4  1999_01_BUF_IND    1999       REG     1  9/12/1999  Sunday   \n",
       "\n",
       "  gametime away_team  away_score  ... stadium_id                   Stadium  \\\n",
       "0      NaN       MIN        17.0  ...      ATL00              Georgia Dome   \n",
       "1      NaN        KC        17.0  ...      CHI98             Soldier Field   \n",
       "2      NaN       PIT        43.0  ...      CLE00  Cleveland Browns Stadium   \n",
       "3      NaN       OAK        24.0  ...      GNB00             Lambeau Field   \n",
       "4      NaN       BUF        14.0  ...      IND99                  RCA Dome   \n",
       "\n",
       "    home_market  home_name  away_market  away_name  home_division  \\\n",
       "0       Atlanta    Falcons    Minnesota    Vikings      NFC South   \n",
       "1       Chicago      Bears  Kansas City     Chiefs      NFC North   \n",
       "2     Cleveland     Browns   Pittsburgh   Steelers      AFC North   \n",
       "3     Green Bay    Packers      Oakland    Raiders      NFC North   \n",
       "4  Indianapolis      Colts      Buffalo      Bills      AFC South   \n",
       "\n",
       "   away_division      home_full_name       away_full_name  \n",
       "0      NFC North     Atlanta Falcons    Minnesota Vikings  \n",
       "1       AFC West       Chicago Bears   Kansas City Chiefs  \n",
       "2      AFC North    Cleveland Browns  Pittsburgh Steelers  \n",
       "3       AFC West   Green Bay Packers      Oakland Raiders  \n",
       "4       AFC East  Indianapolis Colts        Buffalo Bills  \n",
       "\n",
       "[5 rows x 35 columns]"
      ]
     },
     "execution_count": 6,
     "metadata": {},
     "output_type": "execute_result"
    }
   ],
   "source": [
    "df.head()"
   ]
  },
  {
   "cell_type": "code",
   "execution_count": 7,
   "id": "e54ab5f2-5caa-44d2-a9e0-04b7bdf8a222",
   "metadata": {},
   "outputs": [],
   "source": [
    "# Remove unamed : 0 column\n",
    "df = df.drop('Unnamed: 0', axis=1)"
   ]
  },
  {
   "cell_type": "code",
   "execution_count": 8,
   "id": "c5816819-864f-488d-98f5-34f1bbb0fe4a",
   "metadata": {},
   "outputs": [
    {
     "data": {
      "text/plain": [
       "game_id              object\n",
       "season                int64\n",
       "game_type            object\n",
       "week                  int64\n",
       "gameday              object\n",
       "weekday              object\n",
       "gametime             object\n",
       "away_team            object\n",
       "away_score          float64\n",
       "home_team            object\n",
       "home_score          float64\n",
       "location             object\n",
       "actual_spread       float64\n",
       "actual_total        float64\n",
       "overtime            float64\n",
       "away_rest             int64\n",
       "home_rest             int64\n",
       "projected_spread    float64\n",
       "projected_total     float64\n",
       "div_game              int64\n",
       "stadium type         object\n",
       "surface              object\n",
       "temp                float64\n",
       "wind                float64\n",
       "stadium_id           object\n",
       "Stadium              object\n",
       "home_market          object\n",
       "home_name            object\n",
       "away_market          object\n",
       "away_name            object\n",
       "home_division        object\n",
       "away_division        object\n",
       "home_full_name       object\n",
       "away_full_name       object\n",
       "dtype: object"
      ]
     },
     "execution_count": 8,
     "metadata": {},
     "output_type": "execute_result"
    }
   ],
   "source": [
    "df.dtypes"
   ]
  },
  {
   "cell_type": "code",
   "execution_count": 9,
   "id": "0c8267f9-597b-4e46-a9f8-7022bfaa5c13",
   "metadata": {},
   "outputs": [],
   "source": [
    "# Convert gameday to datetime\n",
    "df['gameday'] = pd.to_datetime(df['gameday'])"
   ]
  },
  {
   "cell_type": "code",
   "execution_count": 10,
   "id": "dcd89e1d-6ef7-4d07-87c5-7f43c0da406a",
   "metadata": {},
   "outputs": [],
   "source": [
    "# Extract month and year\n",
    "df['year'] = df['gameday'].dt.year\n",
    "df['month'] = df['gameday'].dt.month"
   ]
  },
  {
   "cell_type": "code",
   "execution_count": 11,
   "id": "339d654f-fbb7-4e3b-a032-d321d568be47",
   "metadata": {},
   "outputs": [
    {
     "data": {
      "text/html": [
       "<div>\n",
       "<style scoped>\n",
       "    .dataframe tbody tr th:only-of-type {\n",
       "        vertical-align: middle;\n",
       "    }\n",
       "\n",
       "    .dataframe tbody tr th {\n",
       "        vertical-align: top;\n",
       "    }\n",
       "\n",
       "    .dataframe thead th {\n",
       "        text-align: right;\n",
       "    }\n",
       "</style>\n",
       "<table border=\"1\" class=\"dataframe\">\n",
       "  <thead>\n",
       "    <tr style=\"text-align: right;\">\n",
       "      <th></th>\n",
       "      <th>game_id</th>\n",
       "      <th>season</th>\n",
       "      <th>game_type</th>\n",
       "      <th>week</th>\n",
       "      <th>gameday</th>\n",
       "      <th>weekday</th>\n",
       "      <th>gametime</th>\n",
       "      <th>away_team</th>\n",
       "      <th>away_score</th>\n",
       "      <th>home_team</th>\n",
       "      <th>...</th>\n",
       "      <th>home_market</th>\n",
       "      <th>home_name</th>\n",
       "      <th>away_market</th>\n",
       "      <th>away_name</th>\n",
       "      <th>home_division</th>\n",
       "      <th>away_division</th>\n",
       "      <th>home_full_name</th>\n",
       "      <th>away_full_name</th>\n",
       "      <th>year</th>\n",
       "      <th>month</th>\n",
       "    </tr>\n",
       "  </thead>\n",
       "  <tbody>\n",
       "    <tr>\n",
       "      <th>0</th>\n",
       "      <td>1999_01_MIN_ATL</td>\n",
       "      <td>1999</td>\n",
       "      <td>REG</td>\n",
       "      <td>1</td>\n",
       "      <td>1999-09-12</td>\n",
       "      <td>Sunday</td>\n",
       "      <td>NaN</td>\n",
       "      <td>MIN</td>\n",
       "      <td>17.0</td>\n",
       "      <td>ATL</td>\n",
       "      <td>...</td>\n",
       "      <td>Atlanta</td>\n",
       "      <td>Falcons</td>\n",
       "      <td>Minnesota</td>\n",
       "      <td>Vikings</td>\n",
       "      <td>NFC South</td>\n",
       "      <td>NFC North</td>\n",
       "      <td>Atlanta Falcons</td>\n",
       "      <td>Minnesota Vikings</td>\n",
       "      <td>1999</td>\n",
       "      <td>9</td>\n",
       "    </tr>\n",
       "    <tr>\n",
       "      <th>1</th>\n",
       "      <td>1999_01_KC_CHI</td>\n",
       "      <td>1999</td>\n",
       "      <td>REG</td>\n",
       "      <td>1</td>\n",
       "      <td>1999-09-12</td>\n",
       "      <td>Sunday</td>\n",
       "      <td>NaN</td>\n",
       "      <td>KC</td>\n",
       "      <td>17.0</td>\n",
       "      <td>CHI</td>\n",
       "      <td>...</td>\n",
       "      <td>Chicago</td>\n",
       "      <td>Bears</td>\n",
       "      <td>Kansas City</td>\n",
       "      <td>Chiefs</td>\n",
       "      <td>NFC North</td>\n",
       "      <td>AFC West</td>\n",
       "      <td>Chicago Bears</td>\n",
       "      <td>Kansas City Chiefs</td>\n",
       "      <td>1999</td>\n",
       "      <td>9</td>\n",
       "    </tr>\n",
       "    <tr>\n",
       "      <th>2</th>\n",
       "      <td>1999_01_PIT_CLE</td>\n",
       "      <td>1999</td>\n",
       "      <td>REG</td>\n",
       "      <td>1</td>\n",
       "      <td>1999-09-12</td>\n",
       "      <td>Sunday</td>\n",
       "      <td>NaN</td>\n",
       "      <td>PIT</td>\n",
       "      <td>43.0</td>\n",
       "      <td>CLE</td>\n",
       "      <td>...</td>\n",
       "      <td>Cleveland</td>\n",
       "      <td>Browns</td>\n",
       "      <td>Pittsburgh</td>\n",
       "      <td>Steelers</td>\n",
       "      <td>AFC North</td>\n",
       "      <td>AFC North</td>\n",
       "      <td>Cleveland Browns</td>\n",
       "      <td>Pittsburgh Steelers</td>\n",
       "      <td>1999</td>\n",
       "      <td>9</td>\n",
       "    </tr>\n",
       "    <tr>\n",
       "      <th>3</th>\n",
       "      <td>1999_01_OAK_GB</td>\n",
       "      <td>1999</td>\n",
       "      <td>REG</td>\n",
       "      <td>1</td>\n",
       "      <td>1999-09-12</td>\n",
       "      <td>Sunday</td>\n",
       "      <td>NaN</td>\n",
       "      <td>OAK</td>\n",
       "      <td>24.0</td>\n",
       "      <td>GB</td>\n",
       "      <td>...</td>\n",
       "      <td>Green Bay</td>\n",
       "      <td>Packers</td>\n",
       "      <td>Oakland</td>\n",
       "      <td>Raiders</td>\n",
       "      <td>NFC North</td>\n",
       "      <td>AFC West</td>\n",
       "      <td>Green Bay Packers</td>\n",
       "      <td>Oakland Raiders</td>\n",
       "      <td>1999</td>\n",
       "      <td>9</td>\n",
       "    </tr>\n",
       "    <tr>\n",
       "      <th>4</th>\n",
       "      <td>1999_01_BUF_IND</td>\n",
       "      <td>1999</td>\n",
       "      <td>REG</td>\n",
       "      <td>1</td>\n",
       "      <td>1999-09-12</td>\n",
       "      <td>Sunday</td>\n",
       "      <td>NaN</td>\n",
       "      <td>BUF</td>\n",
       "      <td>14.0</td>\n",
       "      <td>IND</td>\n",
       "      <td>...</td>\n",
       "      <td>Indianapolis</td>\n",
       "      <td>Colts</td>\n",
       "      <td>Buffalo</td>\n",
       "      <td>Bills</td>\n",
       "      <td>AFC South</td>\n",
       "      <td>AFC East</td>\n",
       "      <td>Indianapolis Colts</td>\n",
       "      <td>Buffalo Bills</td>\n",
       "      <td>1999</td>\n",
       "      <td>9</td>\n",
       "    </tr>\n",
       "  </tbody>\n",
       "</table>\n",
       "<p>5 rows × 36 columns</p>\n",
       "</div>"
      ],
      "text/plain": [
       "           game_id  season game_type  week    gameday weekday gametime  \\\n",
       "0  1999_01_MIN_ATL    1999       REG     1 1999-09-12  Sunday      NaN   \n",
       "1   1999_01_KC_CHI    1999       REG     1 1999-09-12  Sunday      NaN   \n",
       "2  1999_01_PIT_CLE    1999       REG     1 1999-09-12  Sunday      NaN   \n",
       "3   1999_01_OAK_GB    1999       REG     1 1999-09-12  Sunday      NaN   \n",
       "4  1999_01_BUF_IND    1999       REG     1 1999-09-12  Sunday      NaN   \n",
       "\n",
       "  away_team  away_score home_team  ...   home_market home_name  away_market  \\\n",
       "0       MIN        17.0       ATL  ...       Atlanta   Falcons    Minnesota   \n",
       "1        KC        17.0       CHI  ...       Chicago     Bears  Kansas City   \n",
       "2       PIT        43.0       CLE  ...     Cleveland    Browns   Pittsburgh   \n",
       "3       OAK        24.0        GB  ...     Green Bay   Packers      Oakland   \n",
       "4       BUF        14.0       IND  ...  Indianapolis     Colts      Buffalo   \n",
       "\n",
       "   away_name  home_division  away_division      home_full_name  \\\n",
       "0    Vikings      NFC South      NFC North     Atlanta Falcons   \n",
       "1     Chiefs      NFC North       AFC West       Chicago Bears   \n",
       "2   Steelers      AFC North      AFC North    Cleveland Browns   \n",
       "3    Raiders      NFC North       AFC West   Green Bay Packers   \n",
       "4      Bills      AFC South       AFC East  Indianapolis Colts   \n",
       "\n",
       "        away_full_name  year  month  \n",
       "0    Minnesota Vikings  1999      9  \n",
       "1   Kansas City Chiefs  1999      9  \n",
       "2  Pittsburgh Steelers  1999      9  \n",
       "3      Oakland Raiders  1999      9  \n",
       "4        Buffalo Bills  1999      9  \n",
       "\n",
       "[5 rows x 36 columns]"
      ]
     },
     "execution_count": 11,
     "metadata": {},
     "output_type": "execute_result"
    }
   ],
   "source": [
    "df.head()"
   ]
  },
  {
   "cell_type": "markdown",
   "id": "88c2eb8a-19ce-47e7-ae58-2badd454c2b4",
   "metadata": {},
   "source": [
    "### Create Subset"
   ]
  },
  {
   "cell_type": "code",
   "execution_count": 13,
   "id": "4d5a8053-22a1-44a6-a67e-25f70b3602e3",
   "metadata": {},
   "outputs": [],
   "source": [
    "# Group by month and year and aggregate\n",
    "df_sub = df.groupby(['month']).agg({'home_score': 'mean'}).reset_index()"
   ]
  },
  {
   "cell_type": "code",
   "execution_count": 14,
   "id": "62f88ac2-a9f6-4f96-b7b1-df13f8241150",
   "metadata": {},
   "outputs": [],
   "source": [
    "df_sub2 = df.groupby(['year', 'month']).agg({'home_score': 'mean'}).reset_index()"
   ]
  },
  {
   "cell_type": "code",
   "execution_count": 15,
   "id": "29d6b694-252e-4454-aedf-791e3e603624",
   "metadata": {},
   "outputs": [],
   "source": [
    "df_sub3 = df.groupby('gameday').agg({'home_score': 'mean'}).reset_index()"
   ]
  },
  {
   "cell_type": "code",
   "execution_count": 16,
   "id": "40e1bb15-24c7-49fd-90ba-8529da03018e",
   "metadata": {},
   "outputs": [
    {
     "data": {
      "text/html": [
       "<div>\n",
       "<style scoped>\n",
       "    .dataframe tbody tr th:only-of-type {\n",
       "        vertical-align: middle;\n",
       "    }\n",
       "\n",
       "    .dataframe tbody tr th {\n",
       "        vertical-align: top;\n",
       "    }\n",
       "\n",
       "    .dataframe thead th {\n",
       "        text-align: right;\n",
       "    }\n",
       "</style>\n",
       "<table border=\"1\" class=\"dataframe\">\n",
       "  <thead>\n",
       "    <tr style=\"text-align: right;\">\n",
       "      <th></th>\n",
       "      <th>month</th>\n",
       "      <th>home_score</th>\n",
       "    </tr>\n",
       "  </thead>\n",
       "  <tbody>\n",
       "    <tr>\n",
       "      <th>0</th>\n",
       "      <td>1</td>\n",
       "      <td>24.853360</td>\n",
       "    </tr>\n",
       "    <tr>\n",
       "      <th>1</th>\n",
       "      <td>2</td>\n",
       "      <td>23.000000</td>\n",
       "    </tr>\n",
       "    <tr>\n",
       "      <th>2</th>\n",
       "      <td>9</td>\n",
       "      <td>22.928680</td>\n",
       "    </tr>\n",
       "    <tr>\n",
       "      <th>3</th>\n",
       "      <td>10</td>\n",
       "      <td>23.248897</td>\n",
       "    </tr>\n",
       "    <tr>\n",
       "      <th>4</th>\n",
       "      <td>11</td>\n",
       "      <td>22.842308</td>\n",
       "    </tr>\n",
       "    <tr>\n",
       "      <th>5</th>\n",
       "      <td>12</td>\n",
       "      <td>23.351852</td>\n",
       "    </tr>\n",
       "  </tbody>\n",
       "</table>\n",
       "</div>"
      ],
      "text/plain": [
       "   month  home_score\n",
       "0      1   24.853360\n",
       "1      2   23.000000\n",
       "2      9   22.928680\n",
       "3     10   23.248897\n",
       "4     11   22.842308\n",
       "5     12   23.351852"
      ]
     },
     "execution_count": 16,
     "metadata": {},
     "output_type": "execute_result"
    }
   ],
   "source": [
    "df_sub"
   ]
  },
  {
   "cell_type": "code",
   "execution_count": 17,
   "id": "7b5a2a97-9ed7-4efb-b5d1-43ebac7af3f0",
   "metadata": {},
   "outputs": [
    {
     "data": {
      "text/html": [
       "<div>\n",
       "<style scoped>\n",
       "    .dataframe tbody tr th:only-of-type {\n",
       "        vertical-align: middle;\n",
       "    }\n",
       "\n",
       "    .dataframe tbody tr th {\n",
       "        vertical-align: top;\n",
       "    }\n",
       "\n",
       "    .dataframe thead th {\n",
       "        text-align: right;\n",
       "    }\n",
       "</style>\n",
       "<table border=\"1\" class=\"dataframe\">\n",
       "  <thead>\n",
       "    <tr style=\"text-align: right;\">\n",
       "      <th></th>\n",
       "      <th>year</th>\n",
       "      <th>month</th>\n",
       "      <th>home_score</th>\n",
       "    </tr>\n",
       "  </thead>\n",
       "  <tbody>\n",
       "    <tr>\n",
       "      <th>0</th>\n",
       "      <td>1999</td>\n",
       "      <td>9</td>\n",
       "      <td>21.454545</td>\n",
       "    </tr>\n",
       "    <tr>\n",
       "      <th>1</th>\n",
       "      <td>1999</td>\n",
       "      <td>10</td>\n",
       "      <td>19.565217</td>\n",
       "    </tr>\n",
       "    <tr>\n",
       "      <th>2</th>\n",
       "      <td>1999</td>\n",
       "      <td>11</td>\n",
       "      <td>20.866667</td>\n",
       "    </tr>\n",
       "    <tr>\n",
       "      <th>3</th>\n",
       "      <td>1999</td>\n",
       "      <td>12</td>\n",
       "      <td>26.316667</td>\n",
       "    </tr>\n",
       "    <tr>\n",
       "      <th>4</th>\n",
       "      <td>2000</td>\n",
       "      <td>1</td>\n",
       "      <td>26.615385</td>\n",
       "    </tr>\n",
       "    <tr>\n",
       "      <th>...</th>\n",
       "      <td>...</td>\n",
       "      <td>...</td>\n",
       "      <td>...</td>\n",
       "    </tr>\n",
       "    <tr>\n",
       "      <th>142</th>\n",
       "      <td>2023</td>\n",
       "      <td>10</td>\n",
       "      <td>22.863014</td>\n",
       "    </tr>\n",
       "    <tr>\n",
       "      <th>143</th>\n",
       "      <td>2023</td>\n",
       "      <td>11</td>\n",
       "      <td>22.796610</td>\n",
       "    </tr>\n",
       "    <tr>\n",
       "      <th>144</th>\n",
       "      <td>2023</td>\n",
       "      <td>12</td>\n",
       "      <td>24.480000</td>\n",
       "    </tr>\n",
       "    <tr>\n",
       "      <th>145</th>\n",
       "      <td>2024</td>\n",
       "      <td>1</td>\n",
       "      <td>23.678571</td>\n",
       "    </tr>\n",
       "    <tr>\n",
       "      <th>146</th>\n",
       "      <td>2024</td>\n",
       "      <td>2</td>\n",
       "      <td>25.000000</td>\n",
       "    </tr>\n",
       "  </tbody>\n",
       "</table>\n",
       "<p>147 rows × 3 columns</p>\n",
       "</div>"
      ],
      "text/plain": [
       "     year  month  home_score\n",
       "0    1999      9   21.454545\n",
       "1    1999     10   19.565217\n",
       "2    1999     11   20.866667\n",
       "3    1999     12   26.316667\n",
       "4    2000      1   26.615385\n",
       "..    ...    ...         ...\n",
       "142  2023     10   22.863014\n",
       "143  2023     11   22.796610\n",
       "144  2023     12   24.480000\n",
       "145  2024      1   23.678571\n",
       "146  2024      2   25.000000\n",
       "\n",
       "[147 rows x 3 columns]"
      ]
     },
     "execution_count": 17,
     "metadata": {},
     "output_type": "execute_result"
    }
   ],
   "source": [
    "df_sub2"
   ]
  },
  {
   "cell_type": "code",
   "execution_count": 18,
   "id": "36752464-46d9-4c7c-8f68-3f969c8c8dd8",
   "metadata": {},
   "outputs": [
    {
     "data": {
      "text/html": [
       "<div>\n",
       "<style scoped>\n",
       "    .dataframe tbody tr th:only-of-type {\n",
       "        vertical-align: middle;\n",
       "    }\n",
       "\n",
       "    .dataframe tbody tr th {\n",
       "        vertical-align: top;\n",
       "    }\n",
       "\n",
       "    .dataframe thead th {\n",
       "        text-align: right;\n",
       "    }\n",
       "</style>\n",
       "<table border=\"1\" class=\"dataframe\">\n",
       "  <thead>\n",
       "    <tr style=\"text-align: right;\">\n",
       "      <th></th>\n",
       "      <th>gameday</th>\n",
       "      <th>home_score</th>\n",
       "    </tr>\n",
       "  </thead>\n",
       "  <tbody>\n",
       "    <tr>\n",
       "      <th>0</th>\n",
       "      <td>1999-09-12</td>\n",
       "      <td>24.000000</td>\n",
       "    </tr>\n",
       "    <tr>\n",
       "      <th>1</th>\n",
       "      <td>1999-09-13</td>\n",
       "      <td>21.000000</td>\n",
       "    </tr>\n",
       "    <tr>\n",
       "      <th>2</th>\n",
       "      <td>1999-09-19</td>\n",
       "      <td>19.500000</td>\n",
       "    </tr>\n",
       "    <tr>\n",
       "      <th>3</th>\n",
       "      <td>1999-09-20</td>\n",
       "      <td>24.000000</td>\n",
       "    </tr>\n",
       "    <tr>\n",
       "      <th>4</th>\n",
       "      <td>1999-09-26</td>\n",
       "      <td>21.538462</td>\n",
       "    </tr>\n",
       "    <tr>\n",
       "      <th>...</th>\n",
       "      <td>...</td>\n",
       "      <td>...</td>\n",
       "    </tr>\n",
       "    <tr>\n",
       "      <th>1288</th>\n",
       "      <td>2024-01-15</td>\n",
       "      <td>31.500000</td>\n",
       "    </tr>\n",
       "    <tr>\n",
       "      <th>1289</th>\n",
       "      <td>2024-01-20</td>\n",
       "      <td>29.000000</td>\n",
       "    </tr>\n",
       "    <tr>\n",
       "      <th>1290</th>\n",
       "      <td>2024-01-21</td>\n",
       "      <td>27.500000</td>\n",
       "    </tr>\n",
       "    <tr>\n",
       "      <th>1291</th>\n",
       "      <td>2024-01-28</td>\n",
       "      <td>22.000000</td>\n",
       "    </tr>\n",
       "    <tr>\n",
       "      <th>1292</th>\n",
       "      <td>2024-02-11</td>\n",
       "      <td>25.000000</td>\n",
       "    </tr>\n",
       "  </tbody>\n",
       "</table>\n",
       "<p>1293 rows × 2 columns</p>\n",
       "</div>"
      ],
      "text/plain": [
       "        gameday  home_score\n",
       "0    1999-09-12   24.000000\n",
       "1    1999-09-13   21.000000\n",
       "2    1999-09-19   19.500000\n",
       "3    1999-09-20   24.000000\n",
       "4    1999-09-26   21.538462\n",
       "...         ...         ...\n",
       "1288 2024-01-15   31.500000\n",
       "1289 2024-01-20   29.000000\n",
       "1290 2024-01-21   27.500000\n",
       "1291 2024-01-28   22.000000\n",
       "1292 2024-02-11   25.000000\n",
       "\n",
       "[1293 rows x 2 columns]"
      ]
     },
     "execution_count": 18,
     "metadata": {},
     "output_type": "execute_result"
    }
   ],
   "source": [
    "df_sub3"
   ]
  },
  {
   "cell_type": "code",
   "execution_count": 19,
   "id": "edd42dc9-5dff-4787-83e6-f56758f704f0",
   "metadata": {},
   "outputs": [],
   "source": [
    "df_sub2['date'] = pd.to_datetime(df_sub2[['year', 'month']].assign(day=1))"
   ]
  },
  {
   "cell_type": "code",
   "execution_count": 20,
   "id": "66445ec1-1831-420b-a706-f8539c5e7fad",
   "metadata": {},
   "outputs": [
    {
     "data": {
      "text/html": [
       "<div>\n",
       "<style scoped>\n",
       "    .dataframe tbody tr th:only-of-type {\n",
       "        vertical-align: middle;\n",
       "    }\n",
       "\n",
       "    .dataframe tbody tr th {\n",
       "        vertical-align: top;\n",
       "    }\n",
       "\n",
       "    .dataframe thead th {\n",
       "        text-align: right;\n",
       "    }\n",
       "</style>\n",
       "<table border=\"1\" class=\"dataframe\">\n",
       "  <thead>\n",
       "    <tr style=\"text-align: right;\">\n",
       "      <th></th>\n",
       "      <th>year</th>\n",
       "      <th>month</th>\n",
       "      <th>home_score</th>\n",
       "      <th>date</th>\n",
       "    </tr>\n",
       "  </thead>\n",
       "  <tbody>\n",
       "    <tr>\n",
       "      <th>0</th>\n",
       "      <td>1999</td>\n",
       "      <td>9</td>\n",
       "      <td>21.454545</td>\n",
       "      <td>1999-09-01</td>\n",
       "    </tr>\n",
       "    <tr>\n",
       "      <th>1</th>\n",
       "      <td>1999</td>\n",
       "      <td>10</td>\n",
       "      <td>19.565217</td>\n",
       "      <td>1999-10-01</td>\n",
       "    </tr>\n",
       "    <tr>\n",
       "      <th>2</th>\n",
       "      <td>1999</td>\n",
       "      <td>11</td>\n",
       "      <td>20.866667</td>\n",
       "      <td>1999-11-01</td>\n",
       "    </tr>\n",
       "    <tr>\n",
       "      <th>3</th>\n",
       "      <td>1999</td>\n",
       "      <td>12</td>\n",
       "      <td>26.316667</td>\n",
       "      <td>1999-12-01</td>\n",
       "    </tr>\n",
       "    <tr>\n",
       "      <th>4</th>\n",
       "      <td>2000</td>\n",
       "      <td>1</td>\n",
       "      <td>26.615385</td>\n",
       "      <td>2000-01-01</td>\n",
       "    </tr>\n",
       "  </tbody>\n",
       "</table>\n",
       "</div>"
      ],
      "text/plain": [
       "   year  month  home_score       date\n",
       "0  1999      9   21.454545 1999-09-01\n",
       "1  1999     10   19.565217 1999-10-01\n",
       "2  1999     11   20.866667 1999-11-01\n",
       "3  1999     12   26.316667 1999-12-01\n",
       "4  2000      1   26.615385 2000-01-01"
      ]
     },
     "execution_count": 20,
     "metadata": {},
     "output_type": "execute_result"
    }
   ],
   "source": [
    "df_sub2.head()"
   ]
  },
  {
   "cell_type": "code",
   "execution_count": 21,
   "id": "0500c8b6-85b0-40d6-a1e4-0e908c6b9296",
   "metadata": {},
   "outputs": [
    {
     "data": {
      "text/html": [
       "<div>\n",
       "<style scoped>\n",
       "    .dataframe tbody tr th:only-of-type {\n",
       "        vertical-align: middle;\n",
       "    }\n",
       "\n",
       "    .dataframe tbody tr th {\n",
       "        vertical-align: top;\n",
       "    }\n",
       "\n",
       "    .dataframe thead th {\n",
       "        text-align: right;\n",
       "    }\n",
       "</style>\n",
       "<table border=\"1\" class=\"dataframe\">\n",
       "  <thead>\n",
       "    <tr style=\"text-align: right;\">\n",
       "      <th></th>\n",
       "      <th>home_score</th>\n",
       "    </tr>\n",
       "    <tr>\n",
       "      <th>gameday</th>\n",
       "      <th></th>\n",
       "    </tr>\n",
       "  </thead>\n",
       "  <tbody>\n",
       "    <tr>\n",
       "      <th>1999-09-12</th>\n",
       "      <td>24.000000</td>\n",
       "    </tr>\n",
       "    <tr>\n",
       "      <th>1999-09-13</th>\n",
       "      <td>21.000000</td>\n",
       "    </tr>\n",
       "    <tr>\n",
       "      <th>1999-09-19</th>\n",
       "      <td>19.500000</td>\n",
       "    </tr>\n",
       "    <tr>\n",
       "      <th>1999-09-20</th>\n",
       "      <td>24.000000</td>\n",
       "    </tr>\n",
       "    <tr>\n",
       "      <th>1999-09-26</th>\n",
       "      <td>21.538462</td>\n",
       "    </tr>\n",
       "  </tbody>\n",
       "</table>\n",
       "</div>"
      ],
      "text/plain": [
       "            home_score\n",
       "gameday               \n",
       "1999-09-12   24.000000\n",
       "1999-09-13   21.000000\n",
       "1999-09-19   19.500000\n",
       "1999-09-20   24.000000\n",
       "1999-09-26   21.538462"
      ]
     },
     "execution_count": 21,
     "metadata": {},
     "output_type": "execute_result"
    }
   ],
   "source": [
    "df_sub3 = df_sub3.set_index('gameday')\n",
    "df_sub3.head()"
   ]
  },
  {
   "cell_type": "code",
   "execution_count": 22,
   "id": "56ec9df1-f75b-4edb-a75e-ed5e7a3a9a60",
   "metadata": {},
   "outputs": [
    {
     "data": {
      "text/plain": [
       "DatetimeIndex(['1999-09-12', '1999-09-13', '1999-09-19', '1999-09-20',\n",
       "               '1999-09-26', '1999-09-27', '1999-10-03', '1999-10-04',\n",
       "               '1999-10-10', '1999-10-11',\n",
       "               ...\n",
       "               '2023-12-31', '2024-01-06', '2024-01-07', '2024-01-13',\n",
       "               '2024-01-14', '2024-01-15', '2024-01-20', '2024-01-21',\n",
       "               '2024-01-28', '2024-02-11'],\n",
       "              dtype='datetime64[ns]', name='gameday', length=1293, freq=None)"
      ]
     },
     "execution_count": 22,
     "metadata": {},
     "output_type": "execute_result"
    }
   ],
   "source": [
    "df_sub3.index"
   ]
  },
  {
   "cell_type": "code",
   "execution_count": 23,
   "id": "b294e000-ea59-4a25-a5e5-d9328f4e834f",
   "metadata": {},
   "outputs": [
    {
     "data": {
      "text/plain": [
       "DatetimeIndex(['1999-10-01', '1999-11-01', '1999-12-01', '2000-01-01',\n",
       "               '2000-02-01', '2000-03-01', '2000-04-01', '2000-05-01',\n",
       "               '2000-06-01', '2000-07-01',\n",
       "               ...\n",
       "               '2023-05-01', '2023-06-01', '2023-07-01', '2023-08-01',\n",
       "               '2023-09-01', '2023-10-01', '2023-11-01', '2023-12-01',\n",
       "               '2024-01-01', '2024-02-01'],\n",
       "              dtype='datetime64[ns]', name='gameday', length=293, freq='MS')"
      ]
     },
     "execution_count": 23,
     "metadata": {},
     "output_type": "execute_result"
    }
   ],
   "source": [
    "# Set the frequency to monthly\n",
    "df_sub3 = df_sub3.asfreq('MS')\n",
    "df_sub3.index"
   ]
  },
  {
   "cell_type": "code",
   "execution_count": 24,
   "id": "88402ea8-a9e5-46f9-8f6c-37ea62a2e591",
   "metadata": {},
   "outputs": [
    {
     "data": {
      "text/html": [
       "<div>\n",
       "<style scoped>\n",
       "    .dataframe tbody tr th:only-of-type {\n",
       "        vertical-align: middle;\n",
       "    }\n",
       "\n",
       "    .dataframe tbody tr th {\n",
       "        vertical-align: top;\n",
       "    }\n",
       "\n",
       "    .dataframe thead th {\n",
       "        text-align: right;\n",
       "    }\n",
       "</style>\n",
       "<table border=\"1\" class=\"dataframe\">\n",
       "  <thead>\n",
       "    <tr style=\"text-align: right;\">\n",
       "      <th></th>\n",
       "      <th>home_score</th>\n",
       "    </tr>\n",
       "    <tr>\n",
       "      <th>date</th>\n",
       "      <th></th>\n",
       "    </tr>\n",
       "  </thead>\n",
       "  <tbody>\n",
       "    <tr>\n",
       "      <th>1999-09-01</th>\n",
       "      <td>21.454545</td>\n",
       "    </tr>\n",
       "    <tr>\n",
       "      <th>1999-10-01</th>\n",
       "      <td>19.565217</td>\n",
       "    </tr>\n",
       "    <tr>\n",
       "      <th>1999-11-01</th>\n",
       "      <td>20.866667</td>\n",
       "    </tr>\n",
       "    <tr>\n",
       "      <th>1999-12-01</th>\n",
       "      <td>26.316667</td>\n",
       "    </tr>\n",
       "    <tr>\n",
       "      <th>2000-01-01</th>\n",
       "      <td>26.615385</td>\n",
       "    </tr>\n",
       "  </tbody>\n",
       "</table>\n",
       "</div>"
      ],
      "text/plain": [
       "            home_score\n",
       "date                  \n",
       "1999-09-01   21.454545\n",
       "1999-10-01   19.565217\n",
       "1999-11-01   20.866667\n",
       "1999-12-01   26.316667\n",
       "2000-01-01   26.615385"
      ]
     },
     "execution_count": 24,
     "metadata": {},
     "output_type": "execute_result"
    }
   ],
   "source": [
    "df_sub2 = df_sub2.set_index('date') # Set date as the index of the dataframe\n",
    "df_sub2.drop('month', axis=1, inplace=True)\n",
    "df_sub2.drop('year', axis=1, inplace=True)\n",
    "df_sub2.head()"
   ]
  },
  {
   "cell_type": "code",
   "execution_count": 25,
   "id": "dc3ec004-9641-4bf7-af1c-4e124ee89a45",
   "metadata": {},
   "outputs": [
    {
     "data": {
      "text/html": [
       "<div>\n",
       "<style scoped>\n",
       "    .dataframe tbody tr th:only-of-type {\n",
       "        vertical-align: middle;\n",
       "    }\n",
       "\n",
       "    .dataframe tbody tr th {\n",
       "        vertical-align: top;\n",
       "    }\n",
       "\n",
       "    .dataframe thead th {\n",
       "        text-align: right;\n",
       "    }\n",
       "</style>\n",
       "<table border=\"1\" class=\"dataframe\">\n",
       "  <thead>\n",
       "    <tr style=\"text-align: right;\">\n",
       "      <th></th>\n",
       "      <th>home_score</th>\n",
       "    </tr>\n",
       "    <tr>\n",
       "      <th>month</th>\n",
       "      <th></th>\n",
       "    </tr>\n",
       "  </thead>\n",
       "  <tbody>\n",
       "    <tr>\n",
       "      <th>1</th>\n",
       "      <td>24.853360</td>\n",
       "    </tr>\n",
       "    <tr>\n",
       "      <th>2</th>\n",
       "      <td>23.000000</td>\n",
       "    </tr>\n",
       "    <tr>\n",
       "      <th>9</th>\n",
       "      <td>22.928680</td>\n",
       "    </tr>\n",
       "    <tr>\n",
       "      <th>10</th>\n",
       "      <td>23.248897</td>\n",
       "    </tr>\n",
       "    <tr>\n",
       "      <th>11</th>\n",
       "      <td>22.842308</td>\n",
       "    </tr>\n",
       "  </tbody>\n",
       "</table>\n",
       "</div>"
      ],
      "text/plain": [
       "       home_score\n",
       "month            \n",
       "1       24.853360\n",
       "2       23.000000\n",
       "9       22.928680\n",
       "10      23.248897\n",
       "11      22.842308"
      ]
     },
     "execution_count": 25,
     "metadata": {},
     "output_type": "execute_result"
    }
   ],
   "source": [
    "df_sub = df_sub.set_index('month') # Set the month as the index of the dataframe.\n",
    "df_sub.head()"
   ]
  },
  {
   "cell_type": "code",
   "execution_count": 26,
   "id": "c2d981e3-7936-4ec3-a423-0a41a1fd8bfb",
   "metadata": {},
   "outputs": [
    {
     "data": {
      "text/plain": [
       "[<matplotlib.lines.Line2D at 0x1a25c1cd850>]"
      ]
     },
     "execution_count": 26,
     "metadata": {},
     "output_type": "execute_result"
    },
    {
     "data": {
      "image/png": "[encoded data removed]",
      "text/plain": [
       "<Figure size 1500x500 with 1 Axes>"
      ]
     },
     "metadata": {},
     "output_type": "display_data"
    }
   ],
   "source": [
    "# Plot the new data set\n",
    "\n",
    "plt.figure(figsize=(15,5), dpi=100)\n",
    "plt.plot(df_sub2)"
   ]
  },
  {
   "cell_type": "code",
   "execution_count": 27,
   "id": "40bdc0f2-1001-4262-a003-d6cbcaee1213",
   "metadata": {},
   "outputs": [
    {
     "data": {
      "text/plain": [
       "[<matplotlib.lines.Line2D at 0x1a25c7313d0>]"
      ]
     },
     "execution_count": 27,
     "metadata": {},
     "output_type": "execute_result"
    },
    {
     "data": {
      "image/png": "[encoded data removed]",
      "text/plain": [
       "<Figure size 1500x500 with 1 Axes>"
      ]
     },
     "metadata": {},
     "output_type": "display_data"
    }
   ],
   "source": [
    "# Plot the new data set\n",
    "\n",
    "plt.figure(figsize=(15,5), dpi=100)\n",
    "plt.plot(df_sub)"
   ]
  },
  {
   "cell_type": "code",
   "execution_count": 28,
   "id": "4bcd5597-e785-46eb-9de5-566a3bdad35b",
   "metadata": {},
   "outputs": [
    {
     "data": {
      "text/html": [
       "<div>\n",
       "<style scoped>\n",
       "    .dataframe tbody tr th:only-of-type {\n",
       "        vertical-align: middle;\n",
       "    }\n",
       "\n",
       "    .dataframe tbody tr th {\n",
       "        vertical-align: top;\n",
       "    }\n",
       "\n",
       "    .dataframe thead th {\n",
       "        text-align: right;\n",
       "    }\n",
       "</style>\n",
       "<table border=\"1\" class=\"dataframe\">\n",
       "  <thead>\n",
       "    <tr style=\"text-align: right;\">\n",
       "      <th></th>\n",
       "      <th>home_score</th>\n",
       "    </tr>\n",
       "    <tr>\n",
       "      <th>gameday</th>\n",
       "      <th></th>\n",
       "    </tr>\n",
       "  </thead>\n",
       "  <tbody>\n",
       "    <tr>\n",
       "      <th>1999-10-01</th>\n",
       "      <td>NaN</td>\n",
       "    </tr>\n",
       "    <tr>\n",
       "      <th>1999-11-01</th>\n",
       "      <td>7.0</td>\n",
       "    </tr>\n",
       "    <tr>\n",
       "      <th>1999-12-01</th>\n",
       "      <td>NaN</td>\n",
       "    </tr>\n",
       "    <tr>\n",
       "      <th>2000-01-01</th>\n",
       "      <td>NaN</td>\n",
       "    </tr>\n",
       "    <tr>\n",
       "      <th>2000-02-01</th>\n",
       "      <td>NaN</td>\n",
       "    </tr>\n",
       "  </tbody>\n",
       "</table>\n",
       "</div>"
      ],
      "text/plain": [
       "            home_score\n",
       "gameday               \n",
       "1999-10-01         NaN\n",
       "1999-11-01         7.0\n",
       "1999-12-01         NaN\n",
       "2000-01-01         NaN\n",
       "2000-02-01         NaN"
      ]
     },
     "execution_count": 28,
     "metadata": {},
     "output_type": "execute_result"
    }
   ],
   "source": [
    "df_sub3.head()"
   ]
  },
  {
   "cell_type": "markdown",
   "id": "94076063-263f-40c0-8ef7-a75c1e7ef402",
   "metadata": {},
   "source": [
    "##### I decided to analyze the average scores for home teams throughout the months and it's pretty much the same throughout the season."
   ]
  },
  {
   "cell_type": "code",
   "execution_count": null,
   "id": "9d23fb97-8c2c-4a70-9eba-89e61b7a995d",
   "metadata": {},
   "outputs": [],
   "source": []
  },
  {
   "cell_type": "markdown",
   "id": "3fbb29b9-505a-4822-877d-3050106dd7bc",
   "metadata": {},
   "source": [
    "### Decomposition"
   ]
  },
  {
   "cell_type": "code",
   "execution_count": 31,
   "id": "5b9e6a6f-0c24-42ec-b685-f404a8977873",
   "metadata": {},
   "outputs": [
    {
     "data": {
      "text/plain": [
       "pandas.core.indexes.datetimes.DatetimeIndex"
      ]
     },
     "execution_count": 31,
     "metadata": {},
     "output_type": "execute_result"
    }
   ],
   "source": [
    "type(df_sub2.index)"
   ]
  },
  {
   "cell_type": "code",
   "execution_count": 32,
   "id": "79bf6a30-fa00-492b-b14e-f91df033adbd",
   "metadata": {},
   "outputs": [
    {
     "data": {
      "text/plain": [
       "DatetimeIndex(['1999-09-01', '1999-10-01', '1999-11-01', '1999-12-01',\n",
       "               '2000-01-01', '2000-09-01', '2000-10-01', '2000-11-01',\n",
       "               '2000-12-01', '2001-01-01',\n",
       "               ...\n",
       "               '2022-11-01', '2022-12-01', '2023-01-01', '2023-02-01',\n",
       "               '2023-09-01', '2023-10-01', '2023-11-01', '2023-12-01',\n",
       "               '2024-01-01', '2024-02-01'],\n",
       "              dtype='datetime64[ns]', name='date', length=147, freq=None)"
      ]
     },
     "execution_count": 32,
     "metadata": {},
     "output_type": "execute_result"
    }
   ],
   "source": [
    "df_sub2.index"
   ]
  },
  {
   "cell_type": "code",
   "execution_count": 42,
   "id": "48f5093a-beeb-4c09-8e04-a170a8285b0a",
   "metadata": {},
   "outputs": [
    {
     "data": {
      "text/plain": [
       "pandas.core.indexes.datetimes.DatetimeIndex"
      ]
     },
     "execution_count": 42,
     "metadata": {},
     "output_type": "execute_result"
    }
   ],
   "source": [
    "type(df_sub3.index)"
   ]
  },
  {
   "cell_type": "code",
   "execution_count": 36,
   "id": "ac3f1c9d-15fe-4fc6-a50a-3f7f35bf03fd",
   "metadata": {},
   "outputs": [
    {
     "data": {
      "text/plain": [
       "pandas.core.indexes.base.Index"
      ]
     },
     "execution_count": 36,
     "metadata": {},
     "output_type": "execute_result"
    }
   ],
   "source": [
    "type(df_sub.index)"
   ]
  },
  {
   "cell_type": "code",
   "execution_count": 50,
   "id": "3ce4ab6f-0cd8-47e6-ad69-5aeb4da04efa",
   "metadata": {},
   "outputs": [],
   "source": [
    "# Decompose the time series using an additive model\n",
    "decomposition = seasonal_decompose(df_sub2, model='additive', period=1)"
   ]
  },
  {
   "cell_type": "code",
   "execution_count": 52,
   "id": "21f6315c-62c1-425a-87b6-ab9b3d659e53",
   "metadata": {},
   "outputs": [
    {
     "data": {
      "image/png": "[encoded data removed]",
      "text/plain": [
       "<Figure size 640x480 with 4 Axes>"
      ]
     },
     "metadata": {},
     "output_type": "display_data"
    }
   ],
   "source": [
    "# Plot the decomposed components\n",
    "decomposition.plot()\n",
    "plt.show()"
   ]
  },
  {
   "cell_type": "markdown",
   "id": "404912cb-1b28-4067-bbb1-a020528e10a1",
   "metadata": {},
   "source": [
    "##### From what I can on a yearly and seasonal basis the average points scored by the home NFL team is remains stagnant with no clear upward and downward trends."
   ]
  },
  {
   "cell_type": "code",
   "execution_count": null,
   "id": "5f77f8d9-daef-4423-a39a-d162b2d50335",
   "metadata": {},
   "outputs": [],
   "source": []
  },
  {
   "cell_type": "markdown",
   "id": "f3a8c2b6-ea4a-4d77-803c-2d8174d2c7c0",
   "metadata": {},
   "source": [
    "### Testing for Stationarity"
   ]
  },
  {
   "cell_type": "code",
   "execution_count": 61,
   "id": "9340da4a-77f7-4ce3-947b-105f97cd9d9b",
   "metadata": {},
   "outputs": [
    {
     "name": "stdout",
     "output_type": "stream",
     "text": [
      "Dickey-Fuller Stationarity test:\n",
      "Test Statistic                -1.128343e+01\n",
      "p-value                        1.437394e-20\n",
      "Number of Lags Used            0.000000e+00\n",
      "Number of Observations Used    1.460000e+02\n",
      "Critical Value (1%)           -3.475953e+00\n",
      "Critical Value (5%)           -2.881548e+00\n",
      "Critical Value (10%)          -2.577439e+00\n",
      "dtype: float64\n"
     ]
    }
   ],
   "source": [
    "# The adfuller() function will import from the model from statsmodels for the test; however, running it will only return \n",
    "# an array of numbers. This is why you need to also define a function that prints the correct output from that array.\n",
    "\n",
    "from statsmodels.tsa.stattools import adfuller # Import the adfuller() function\n",
    "\n",
    "def dickey_fuller(timeseries): # Define the function\n",
    "    # Perform the Dickey-Fuller test:\n",
    "    print ('Dickey-Fuller Stationarity test:')\n",
    "    test = adfuller(timeseries, autolag='AIC')\n",
    "    result = pd.Series(test[0:4], index=['Test Statistic','p-value','Number of Lags Used','Number of Observations Used'])\n",
    "    for key,value in test[4].items():\n",
    "       result['Critical Value (%s)'%key] = value\n",
    "    print (result)\n",
    "\n",
    "# Apply the test using the function on the time series\n",
    "dickey_fuller(df_sub2['home_score'])"
   ]
  },
  {
   "cell_type": "markdown",
   "id": "7a4ee7df-f5cd-41a3-94da-4c9e2e93b39e",
   "metadata": {},
   "source": [
    "##### Based on the stationarity test results with an extremely low p-value. We can conclude the time-series is stationary."
   ]
  },
  {
   "cell_type": "code",
   "execution_count": null,
   "id": "26f42d43-0614-46dc-bdf2-aa6ee7c521c8",
   "metadata": {},
   "outputs": [],
   "source": []
  },
  {
   "cell_type": "code",
   "execution_count": 65,
   "id": "09854f65-f3ab-4cf8-946b-331623d45cd4",
   "metadata": {},
   "outputs": [
    {
     "data": {
      "image/png": "[encoded data removed]",
      "text/plain": [
       "<Figure size 640x480 with 1 Axes>"
      ]
     },
     "metadata": {},
     "output_type": "display_data"
    }
   ],
   "source": [
    "# Check out a plot of autocorrelations\n",
    "\n",
    "from statsmodels.graphics.tsaplots import plot_acf, plot_pacf # Here, you import the autocorrelation and partial correlation plots\n",
    "\n",
    "plot_acf(df_sub2)\n",
    "plt.show()"
   ]
  },
  {
   "cell_type": "markdown",
   "id": "94c18715-b82d-4e34-a804-86c48639be5b",
   "metadata": {},
   "source": [
    "#### Interpretation:\n",
    "\n",
    "##### Significant Lags: The lags where the blue lines extend beyond the shaded area indicate significant autocorrelation. These lags show a strong relationship between the time series values and their past values.\n",
    "##### Non-Significant Lags: Most of the lines are within the shaded area, suggesting that the autocorrelations at those lags are not statistically significant."
   ]
  },
  {
   "cell_type": "code",
   "execution_count": null,
   "id": "5d300f3c-9f3e-4b7f-bc4f-9042b359bde7",
   "metadata": {},
   "outputs": [],
   "source": []
  }
 ],
 "metadata": {
  "kernelspec": {
   "display_name": "Python 3 (ipykernel)",
   "language": "python",
   "name": "python3"
  },
  "language_info": {
   "codemirror_mode": {
    "name": "ipython",
    "version": 3
   },
   "file_extension": ".py",
   "mimetype": "text/x-python",
   "name": "python",
   "nbconvert_exporter": "python",
   "pygments_lexer": "ipython3",
   "version": "3.12.4"
  }
 },
 "nbformat": 4,
 "nbformat_minor": 5
}
